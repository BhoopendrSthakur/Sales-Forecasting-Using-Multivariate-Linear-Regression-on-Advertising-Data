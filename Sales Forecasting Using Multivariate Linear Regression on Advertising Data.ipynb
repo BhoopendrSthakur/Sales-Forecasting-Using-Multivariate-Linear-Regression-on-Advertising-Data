{
 "cells": [
  {
   "cell_type": "markdown",
   "id": "e4d2c930",
   "metadata": {},
   "source": [
    "# Sales Prediction\n"
   ]
  },
  {
   "cell_type": "markdown",
   "id": "6addabb4",
   "metadata": {},
   "source": [
    "(Simple Linear Regression)"
   ]
  },
  {
   "cell_type": "markdown",
   "id": "b37e0de4",
   "metadata": {},
   "source": [
    "# Problem Statement"
   ]
  },
  {
   "cell_type": "markdown",
   "id": "88d4d99f",
   "metadata": {},
   "source": [
    "Build a model which predicts sales based on the money spent on different platforms for marketing."
   ]
  },
  {
   "cell_type": "markdown",
   "id": "fa542292",
   "metadata": {},
   "source": [
    "# Data"
   ]
  },
  {
   "cell_type": "markdown",
   "id": "ee9fb02b",
   "metadata": {},
   "source": [
    "Use the advertising dataset given in ISLR and analyse the relationship between 'TV advertising' and 'sales' using a simple linear regression model.\n",
    "\n",
    "In this notebook, we'll build a linear regression model to predict Sales using an appropriate predictor variable."
   ]
  },
  {
   "cell_type": "markdown",
   "id": "bb6eed04",
   "metadata": {},
   "source": [
    "# Reading and Understanding the Data"
   ]
  },
  {
   "cell_type": "code",
   "execution_count": 1,
   "id": "ab3c9781",
   "metadata": {},
   "outputs": [],
   "source": [
    "#supress warning\n",
    "import warnings\n",
    "warnings.filterwarnings('ignore')\n",
    "\n",
    "# Import the numpy and pandas package\n",
    "\n",
    "import numpy as np\n",
    "import pandas as pd\n",
    "\n",
    "# Data Visualisation\n",
    "import matplotlib.pyplot as plt \n",
    "import seaborn as sns"
   ]
  },
  {
   "cell_type": "code",
   "execution_count": 2,
   "id": "f972ddfe",
   "metadata": {},
   "outputs": [
    {
     "data": {
      "text/html": [
       "<div>\n",
       "<style scoped>\n",
       "    .dataframe tbody tr th:only-of-type {\n",
       "        vertical-align: middle;\n",
       "    }\n",
       "\n",
       "    .dataframe tbody tr th {\n",
       "        vertical-align: top;\n",
       "    }\n",
       "\n",
       "    .dataframe thead th {\n",
       "        text-align: right;\n",
       "    }\n",
       "</style>\n",
       "<table border=\"1\" class=\"dataframe\">\n",
       "  <thead>\n",
       "    <tr style=\"text-align: right;\">\n",
       "      <th></th>\n",
       "      <th>TV</th>\n",
       "      <th>Radio</th>\n",
       "      <th>Newspaper</th>\n",
       "      <th>Sales</th>\n",
       "    </tr>\n",
       "  </thead>\n",
       "  <tbody>\n",
       "    <tr>\n",
       "      <th>0</th>\n",
       "      <td>230.1</td>\n",
       "      <td>37.8</td>\n",
       "      <td>69.2</td>\n",
       "      <td>22.1</td>\n",
       "    </tr>\n",
       "    <tr>\n",
       "      <th>1</th>\n",
       "      <td>44.5</td>\n",
       "      <td>39.3</td>\n",
       "      <td>45.1</td>\n",
       "      <td>10.4</td>\n",
       "    </tr>\n",
       "    <tr>\n",
       "      <th>2</th>\n",
       "      <td>17.2</td>\n",
       "      <td>45.9</td>\n",
       "      <td>69.3</td>\n",
       "      <td>12.0</td>\n",
       "    </tr>\n",
       "    <tr>\n",
       "      <th>3</th>\n",
       "      <td>151.5</td>\n",
       "      <td>41.3</td>\n",
       "      <td>58.5</td>\n",
       "      <td>16.5</td>\n",
       "    </tr>\n",
       "    <tr>\n",
       "      <th>4</th>\n",
       "      <td>180.8</td>\n",
       "      <td>10.8</td>\n",
       "      <td>58.4</td>\n",
       "      <td>17.9</td>\n",
       "    </tr>\n",
       "  </tbody>\n",
       "</table>\n",
       "</div>"
      ],
      "text/plain": [
       "      TV  Radio  Newspaper  Sales\n",
       "0  230.1   37.8       69.2   22.1\n",
       "1   44.5   39.3       45.1   10.4\n",
       "2   17.2   45.9       69.3   12.0\n",
       "3  151.5   41.3       58.5   16.5\n",
       "4  180.8   10.8       58.4   17.9"
      ]
     },
     "execution_count": 2,
     "metadata": {},
     "output_type": "execute_result"
    }
   ],
   "source": [
    "\n",
    "advertising = pd.DataFrame(pd.read_csv(r'C:\\Users\\HP\\Downloads\\advertising.csv'))\n",
    "advertising.head()"
   ]
  },
  {
   "cell_type": "markdown",
   "id": "fb6c9ad6",
   "metadata": {},
   "source": [
    "Data Inspection"
   ]
  },
  {
   "cell_type": "code",
   "execution_count": 3,
   "id": "01061c41",
   "metadata": {},
   "outputs": [
    {
     "data": {
      "text/plain": [
       "(200, 4)"
      ]
     },
     "execution_count": 3,
     "metadata": {},
     "output_type": "execute_result"
    }
   ],
   "source": [
    "advertising.shape"
   ]
  },
  {
   "cell_type": "code",
   "execution_count": 4,
   "id": "c7a9ff43",
   "metadata": {},
   "outputs": [
    {
     "name": "stdout",
     "output_type": "stream",
     "text": [
      "<class 'pandas.core.frame.DataFrame'>\n",
      "RangeIndex: 200 entries, 0 to 199\n",
      "Data columns (total 4 columns):\n",
      " #   Column     Non-Null Count  Dtype  \n",
      "---  ------     --------------  -----  \n",
      " 0   TV         200 non-null    float64\n",
      " 1   Radio      200 non-null    float64\n",
      " 2   Newspaper  200 non-null    float64\n",
      " 3   Sales      200 non-null    float64\n",
      "dtypes: float64(4)\n",
      "memory usage: 6.4 KB\n"
     ]
    }
   ],
   "source": [
    "advertising.info()"
   ]
  },
  {
   "cell_type": "code",
   "execution_count": 5,
   "id": "7a13369f",
   "metadata": {},
   "outputs": [
    {
     "data": {
      "text/html": [
       "<div>\n",
       "<style scoped>\n",
       "    .dataframe tbody tr th:only-of-type {\n",
       "        vertical-align: middle;\n",
       "    }\n",
       "\n",
       "    .dataframe tbody tr th {\n",
       "        vertical-align: top;\n",
       "    }\n",
       "\n",
       "    .dataframe thead th {\n",
       "        text-align: right;\n",
       "    }\n",
       "</style>\n",
       "<table border=\"1\" class=\"dataframe\">\n",
       "  <thead>\n",
       "    <tr style=\"text-align: right;\">\n",
       "      <th></th>\n",
       "      <th>TV</th>\n",
       "      <th>Radio</th>\n",
       "      <th>Newspaper</th>\n",
       "      <th>Sales</th>\n",
       "    </tr>\n",
       "  </thead>\n",
       "  <tbody>\n",
       "    <tr>\n",
       "      <th>count</th>\n",
       "      <td>200.000000</td>\n",
       "      <td>200.000000</td>\n",
       "      <td>200.000000</td>\n",
       "      <td>200.000000</td>\n",
       "    </tr>\n",
       "    <tr>\n",
       "      <th>mean</th>\n",
       "      <td>147.042500</td>\n",
       "      <td>23.264000</td>\n",
       "      <td>30.554000</td>\n",
       "      <td>15.130500</td>\n",
       "    </tr>\n",
       "    <tr>\n",
       "      <th>std</th>\n",
       "      <td>85.854236</td>\n",
       "      <td>14.846809</td>\n",
       "      <td>21.778621</td>\n",
       "      <td>5.283892</td>\n",
       "    </tr>\n",
       "    <tr>\n",
       "      <th>min</th>\n",
       "      <td>0.700000</td>\n",
       "      <td>0.000000</td>\n",
       "      <td>0.300000</td>\n",
       "      <td>1.600000</td>\n",
       "    </tr>\n",
       "    <tr>\n",
       "      <th>25%</th>\n",
       "      <td>74.375000</td>\n",
       "      <td>9.975000</td>\n",
       "      <td>12.750000</td>\n",
       "      <td>11.000000</td>\n",
       "    </tr>\n",
       "    <tr>\n",
       "      <th>50%</th>\n",
       "      <td>149.750000</td>\n",
       "      <td>22.900000</td>\n",
       "      <td>25.750000</td>\n",
       "      <td>16.000000</td>\n",
       "    </tr>\n",
       "    <tr>\n",
       "      <th>75%</th>\n",
       "      <td>218.825000</td>\n",
       "      <td>36.525000</td>\n",
       "      <td>45.100000</td>\n",
       "      <td>19.050000</td>\n",
       "    </tr>\n",
       "    <tr>\n",
       "      <th>max</th>\n",
       "      <td>296.400000</td>\n",
       "      <td>49.600000</td>\n",
       "      <td>114.000000</td>\n",
       "      <td>27.000000</td>\n",
       "    </tr>\n",
       "  </tbody>\n",
       "</table>\n",
       "</div>"
      ],
      "text/plain": [
       "               TV       Radio   Newspaper       Sales\n",
       "count  200.000000  200.000000  200.000000  200.000000\n",
       "mean   147.042500   23.264000   30.554000   15.130500\n",
       "std     85.854236   14.846809   21.778621    5.283892\n",
       "min      0.700000    0.000000    0.300000    1.600000\n",
       "25%     74.375000    9.975000   12.750000   11.000000\n",
       "50%    149.750000   22.900000   25.750000   16.000000\n",
       "75%    218.825000   36.525000   45.100000   19.050000\n",
       "max    296.400000   49.600000  114.000000   27.000000"
      ]
     },
     "execution_count": 5,
     "metadata": {},
     "output_type": "execute_result"
    }
   ],
   "source": [
    "advertising.describe()"
   ]
  },
  {
   "cell_type": "markdown",
   "id": "e59b743b",
   "metadata": {},
   "source": [
    "Data cleaning"
   ]
  },
  {
   "cell_type": "code",
   "execution_count": 6,
   "id": "25f48290",
   "metadata": {},
   "outputs": [
    {
     "data": {
      "text/plain": [
       "TV           0\n",
       "Radio        0\n",
       "Newspaper    0\n",
       "Sales        0\n",
       "dtype: int64"
      ]
     },
     "execution_count": 6,
     "metadata": {},
     "output_type": "execute_result"
    }
   ],
   "source": [
    "#checking null value\n",
    "advertising.isnull().sum()\n",
    "# There are no NULL values in the dataset, hence it is clean."
   ]
  },
  {
   "cell_type": "code",
   "execution_count": 7,
   "id": "abafea5d",
   "metadata": {},
   "outputs": [
    {
     "data": {
      "image/png": "[encoded data removed]",
      "text/plain": [
       "<Figure size 400x400 with 3 Axes>"
      ]
     },
     "metadata": {},
     "output_type": "display_data"
    }
   ],
   "source": [
    "#outlier analysis\n",
    "fig, axs = plt.subplots(3, figsize = (4,4))\n",
    "plt1 = sns.boxplot(advertising['TV'], ax = axs[0],orient=\"h\")\n",
    "plt2 = sns.boxplot(advertising['Newspaper'], ax = axs[1],orient=\"h\")\n",
    "plt3 = sns.boxplot(advertising['Radio'], ax = axs[2],orient=\"h\")\n",
    "plt.tight_layout()\n",
    "\n"
   ]
  },
  {
   "cell_type": "markdown",
   "id": "3def88f6",
   "metadata": {},
   "source": [
    "# Outlier treatment"
   ]
  },
  {
   "cell_type": "code",
   "execution_count": 8,
   "id": "03e0b871",
   "metadata": {},
   "outputs": [],
   "source": [
    "percentile25 = advertising['Newspaper'].quantile(0.25)\n",
    "percentile75 = advertising['Newspaper'].quantile(0.75)"
   ]
  },
  {
   "cell_type": "code",
   "execution_count": 9,
   "id": "1856af5d",
   "metadata": {},
   "outputs": [],
   "source": [
    "IQR = percentile75 - percentile25"
   ]
  },
  {
   "cell_type": "code",
   "execution_count": 10,
   "id": "1aedadf2",
   "metadata": {},
   "outputs": [],
   "source": [
    "upper_limit = percentile75 + 1.5 * IQR\n",
    "lower_limit = percentile25 - 1.5 * IQR"
   ]
  },
  {
   "cell_type": "code",
   "execution_count": 11,
   "id": "a1849264",
   "metadata": {},
   "outputs": [
    {
     "data": {
      "text/html": [
       "<div>\n",
       "<style scoped>\n",
       "    .dataframe tbody tr th:only-of-type {\n",
       "        vertical-align: middle;\n",
       "    }\n",
       "\n",
       "    .dataframe tbody tr th {\n",
       "        vertical-align: top;\n",
       "    }\n",
       "\n",
       "    .dataframe thead th {\n",
       "        text-align: right;\n",
       "    }\n",
       "</style>\n",
       "<table border=\"1\" class=\"dataframe\">\n",
       "  <thead>\n",
       "    <tr style=\"text-align: right;\">\n",
       "      <th></th>\n",
       "      <th>TV</th>\n",
       "      <th>Radio</th>\n",
       "      <th>Newspaper</th>\n",
       "      <th>Sales</th>\n",
       "    </tr>\n",
       "  </thead>\n",
       "  <tbody>\n",
       "    <tr>\n",
       "      <th>16</th>\n",
       "      <td>67.8</td>\n",
       "      <td>36.6</td>\n",
       "      <td>114.0</td>\n",
       "      <td>12.5</td>\n",
       "    </tr>\n",
       "    <tr>\n",
       "      <th>101</th>\n",
       "      <td>296.4</td>\n",
       "      <td>36.3</td>\n",
       "      <td>100.9</td>\n",
       "      <td>23.8</td>\n",
       "    </tr>\n",
       "  </tbody>\n",
       "</table>\n",
       "</div>"
      ],
      "text/plain": [
       "        TV  Radio  Newspaper  Sales\n",
       "16    67.8   36.6      114.0   12.5\n",
       "101  296.4   36.3      100.9   23.8"
      ]
     },
     "execution_count": 11,
     "metadata": {},
     "output_type": "execute_result"
    }
   ],
   "source": [
    "#Detecting the outliers\n",
    "advertising[advertising['Newspaper'] > upper_limit]"
   ]
  },
  {
   "cell_type": "code",
   "execution_count": 12,
   "id": "e857c5c1",
   "metadata": {},
   "outputs": [
    {
     "data": {
      "text/html": [
       "<div>\n",
       "<style scoped>\n",
       "    .dataframe tbody tr th:only-of-type {\n",
       "        vertical-align: middle;\n",
       "    }\n",
       "\n",
       "    .dataframe tbody tr th {\n",
       "        vertical-align: top;\n",
       "    }\n",
       "\n",
       "    .dataframe thead th {\n",
       "        text-align: right;\n",
       "    }\n",
       "</style>\n",
       "<table border=\"1\" class=\"dataframe\">\n",
       "  <thead>\n",
       "    <tr style=\"text-align: right;\">\n",
       "      <th></th>\n",
       "      <th>TV</th>\n",
       "      <th>Radio</th>\n",
       "      <th>Newspaper</th>\n",
       "      <th>Sales</th>\n",
       "    </tr>\n",
       "  </thead>\n",
       "  <tbody>\n",
       "  </tbody>\n",
       "</table>\n",
       "</div>"
      ],
      "text/plain": [
       "Empty DataFrame\n",
       "Columns: [TV, Radio, Newspaper, Sales]\n",
       "Index: []"
      ]
     },
     "execution_count": 12,
     "metadata": {},
     "output_type": "execute_result"
    }
   ],
   "source": [
    "advertising[advertising['Newspaper'] < lower_limit]"
   ]
  },
  {
   "cell_type": "code",
   "execution_count": 13,
   "id": "cc215008",
   "metadata": {},
   "outputs": [
    {
     "data": {
      "text/plain": [
       "(198, 4)"
      ]
     },
     "execution_count": 13,
     "metadata": {},
     "output_type": "execute_result"
    }
   ],
   "source": [
    "#There are two outliers which can be dropped\n",
    "advertising = advertising[advertising['Newspaper'] < upper_limit]\n",
    "advertising.shape"
   ]
  },
  {
   "cell_type": "code",
   "execution_count": 14,
   "id": "9b07a9fd",
   "metadata": {},
   "outputs": [
    {
     "data": {
      "image/png": "[encoded data removed]",
      "text/plain": [
       "<Figure size 640x480 with 1 Axes>"
      ]
     },
     "metadata": {},
     "output_type": "display_data"
    }
   ],
   "source": [
    "plt2 = sns.boxplot(advertising['Newspaper'],orient =\"h\")\n",
    "#Outliers Removed"
   ]
  },
  {
   "cell_type": "markdown",
   "id": "71ddf12b",
   "metadata": {},
   "source": [
    "# Exploratory Data Analysis"
   ]
  },
  {
   "cell_type": "markdown",
   "id": "bc4e4dc6",
   "metadata": {},
   "source": [
    "\n",
    "Univariate Analysis\n"
   ]
  },
  {
   "cell_type": "code",
   "execution_count": 15,
   "id": "0b322c62",
   "metadata": {},
   "outputs": [
    {
     "data": {
      "image/png": "[encoded data removed]",
      "text/plain": [
       "<Figure size 640x480 with 1 Axes>"
      ]
     },
     "metadata": {},
     "output_type": "display_data"
    }
   ],
   "source": [
    "sns.boxplot(advertising['Sales'],orient = \"h\")\n",
    "plt.show()"
   ]
  },
  {
   "cell_type": "raw",
   "id": "7282fc46",
   "metadata": {},
   "source": [
    "# Let's see how Sales are related with other variables using scatter plot.\n",
    "sns.pairplot(advertising, x_vars=['TV', 'Newspaper', 'Radio'], y_vars='Sales', height=4, aspect=1, kind='scatter')\n",
    "plt.show()"
   ]
  },
  {
   "cell_type": "code",
   "execution_count": 16,
   "id": "413a5d09",
   "metadata": {},
   "outputs": [
    {
     "data": {
      "image/png": "[encoded data removed]",
      "text/plain": [
       "<Figure size 640x480 with 2 Axes>"
      ]
     },
     "metadata": {},
     "output_type": "display_data"
    }
   ],
   "source": [
    "# Let's see the correlation between different variables.\n",
    "sns.heatmap(advertising.corr(), cmap=\"YlGnBu\", annot = True)\n",
    "plt.show()"
   ]
  },
  {
   "cell_type": "markdown",
   "id": "4157dea9",
   "metadata": {},
   "source": [
    "As is visible from the pairplot and the heatmap, the variable TV seems to be most correlated with Sales. So let's go ahead and perform simple linear regression using TV as our feature variable."
   ]
  },
  {
   "cell_type": "markdown",
   "id": "f78912c2",
   "metadata": {},
   "source": [
    "# Model Building"
   ]
  },
  {
   "cell_type": "markdown",
   "id": "55e49766",
   "metadata": {},
   "source": [
    "# Performing Simple Linear Regression"
   ]
  },
  {
   "cell_type": "markdown",
   "id": "feb4ef6f",
   "metadata": {},
   "source": [
    "Equation of linear regression\n"
   ]
  },
  {
   "cell_type": "markdown",
   "id": "b3256965",
   "metadata": {},
   "source": [
    "y= c+m1*x1+m2*x2+m3*x3\n",
    "\n",
    "y is the response\n",
    "c is the intercept\n",
    "m1 is the coefficient for the first feature\n",
    "mn is the coefficient for the nth feature\n",
    "\n",
    "In our case:\n",
    "\n",
    "y = c + m1*TV\n",
    "The values m1 are called the model coefficients or model parameters."
   ]
  },
  {
   "cell_type": "markdown",
   "id": "3e3c6bfc",
   "metadata": {},
   "source": [
    "# Generic Steps in model building using statsmodels"
   ]
  },
  {
   "cell_type": "markdown",
   "id": "41e46d7e",
   "metadata": {},
   "source": [
    "We first assign the feature variable, TV, in this case, to the variable X and the response variable, Sales, to the variable y"
   ]
  },
  {
   "cell_type": "code",
   "execution_count": 17,
   "id": "76a47e40",
   "metadata": {},
   "outputs": [],
   "source": [
    "X = advertising['TV']\n",
    "y = advertising['Sales']"
   ]
  },
  {
   "cell_type": "markdown",
   "id": "0c199192",
   "metadata": {},
   "source": [
    "# Train-Test Split"
   ]
  },
  {
   "cell_type": "markdown",
   "id": "02c36921",
   "metadata": {},
   "source": [
    "You now need to split our variable into training and testing sets. You'll perform this by importing train_test_split from the sklearn.model_selection library. It is usually a good practice to keep 70% of the data in your train dataset and the rest 30% in your test dataset"
   ]
  },
  {
   "cell_type": "code",
   "execution_count": 18,
   "id": "60d4bf82",
   "metadata": {},
   "outputs": [],
   "source": [
    "from sklearn.model_selection import train_test_split\n",
    "X_train, X_test, y_train, y_test = train_test_split(X, y, train_size = 0.7, test_size = 0.3, random_state = 100)"
   ]
  },
  {
   "cell_type": "code",
   "execution_count": 19,
   "id": "66d19d18",
   "metadata": {},
   "outputs": [
    {
     "data": {
      "text/plain": [
       "75      16.9\n",
       "3      151.5\n",
       "185    205.0\n",
       "27     240.1\n",
       "91      28.6\n",
       "Name: TV, dtype: float64"
      ]
     },
     "execution_count": 19,
     "metadata": {},
     "output_type": "execute_result"
    }
   ],
   "source": [
    "# Let's now take a look at the train dataset\n",
    "\n",
    "X_train.head()"
   ]
  },
  {
   "cell_type": "code",
   "execution_count": 20,
   "id": "8439b89a",
   "metadata": {},
   "outputs": [
    {
     "data": {
      "text/plain": [
       "75      8.7\n",
       "3      16.5\n",
       "185    22.6\n",
       "27     20.9\n",
       "91      7.3\n",
       "Name: Sales, dtype: float64"
      ]
     },
     "execution_count": 20,
     "metadata": {},
     "output_type": "execute_result"
    }
   ],
   "source": [
    "y_train.head()"
   ]
  },
  {
   "cell_type": "code",
   "execution_count": 21,
   "id": "eb6e7689",
   "metadata": {},
   "outputs": [
    {
     "data": {
      "text/plain": [
       "128    220.3\n",
       "106     25.0\n",
       "100    222.4\n",
       "93     250.9\n",
       "113    209.6\n",
       "Name: TV, dtype: float64"
      ]
     },
     "execution_count": 21,
     "metadata": {},
     "output_type": "execute_result"
    }
   ],
   "source": [
    "X_test.head()"
   ]
  },
  {
   "cell_type": "markdown",
   "id": "7995e09d",
   "metadata": {},
   "source": [
    "y_test.head()"
   ]
  },
  {
   "cell_type": "markdown",
   "id": "04135c5b",
   "metadata": {},
   "source": [
    "# Building a Linear Model"
   ]
  },
  {
   "cell_type": "markdown",
   "id": "4ee1aed8",
   "metadata": {},
   "source": [
    "You first need to import the statsmodel.api library using which you'll perform the linear regression"
   ]
  },
  {
   "cell_type": "code",
   "execution_count": 22,
   "id": "77c9bb5e",
   "metadata": {},
   "outputs": [],
   "source": [
    "import statsmodels.api as sm"
   ]
  },
  {
   "cell_type": "markdown",
   "id": "5975897f",
   "metadata": {},
   "source": [
    "By default, the statsmodels library fits a line on the dataset which passes through the origin. But in order to have an intercept, you need to manually use the add_constant attribute of statsmodels. And once you've added the constant to your X_train dataset, you can go ahead and fit a regression line using the OLS (Ordinary Least Squares) attribute of statsmodels as shown below"
   ]
  },
  {
   "cell_type": "code",
   "execution_count": 23,
   "id": "261956f1",
   "metadata": {},
   "outputs": [],
   "source": [
    "# Add a constant to get an intercept\n",
    "X_train_sm = sm.add_constant(X_train)\n",
    "\n",
    "# Fit the resgression line using 'OLS'\n",
    "lr = sm.OLS(y_train, X_train_sm).fit()"
   ]
  },
  {
   "cell_type": "code",
   "execution_count": 24,
   "id": "937ae5d1",
   "metadata": {},
   "outputs": [
    {
     "data": {
      "text/html": [
       "<div>\n",
       "<style scoped>\n",
       "    .dataframe tbody tr th:only-of-type {\n",
       "        vertical-align: middle;\n",
       "    }\n",
       "\n",
       "    .dataframe tbody tr th {\n",
       "        vertical-align: top;\n",
       "    }\n",
       "\n",
       "    .dataframe thead th {\n",
       "        text-align: right;\n",
       "    }\n",
       "</style>\n",
       "<table border=\"1\" class=\"dataframe\">\n",
       "  <thead>\n",
       "    <tr style=\"text-align: right;\">\n",
       "      <th></th>\n",
       "      <th>const</th>\n",
       "      <th>TV</th>\n",
       "    </tr>\n",
       "  </thead>\n",
       "  <tbody>\n",
       "    <tr>\n",
       "      <th>75</th>\n",
       "      <td>1.0</td>\n",
       "      <td>16.9</td>\n",
       "    </tr>\n",
       "    <tr>\n",
       "      <th>3</th>\n",
       "      <td>1.0</td>\n",
       "      <td>151.5</td>\n",
       "    </tr>\n",
       "    <tr>\n",
       "      <th>185</th>\n",
       "      <td>1.0</td>\n",
       "      <td>205.0</td>\n",
       "    </tr>\n",
       "    <tr>\n",
       "      <th>27</th>\n",
       "      <td>1.0</td>\n",
       "      <td>240.1</td>\n",
       "    </tr>\n",
       "    <tr>\n",
       "      <th>91</th>\n",
       "      <td>1.0</td>\n",
       "      <td>28.6</td>\n",
       "    </tr>\n",
       "  </tbody>\n",
       "</table>\n",
       "</div>"
      ],
      "text/plain": [
       "     const     TV\n",
       "75     1.0   16.9\n",
       "3      1.0  151.5\n",
       "185    1.0  205.0\n",
       "27     1.0  240.1\n",
       "91     1.0   28.6"
      ]
     },
     "execution_count": 24,
     "metadata": {},
     "output_type": "execute_result"
    }
   ],
   "source": [
    "X_train_sm.head()"
   ]
  },
  {
   "cell_type": "code",
   "execution_count": 25,
   "id": "c46d302f",
   "metadata": {},
   "outputs": [
    {
     "data": {
      "text/plain": [
       "const    7.065086\n",
       "TV       0.053974\n",
       "dtype: float64"
      ]
     },
     "execution_count": 25,
     "metadata": {},
     "output_type": "execute_result"
    }
   ],
   "source": [
    "# Print the parameters, i.e. the intercept and the slope of the regression line fitted\n",
    "lr.params"
   ]
  },
  {
   "cell_type": "code",
   "execution_count": 26,
   "id": "4769765f",
   "metadata": {},
   "outputs": [
    {
     "name": "stdout",
     "output_type": "stream",
     "text": [
      "                            OLS Regression Results                            \n",
      "==============================================================================\n",
      "Dep. Variable:                  Sales   R-squared:                       0.801\n",
      "Model:                            OLS   Adj. R-squared:                  0.800\n",
      "Method:                 Least Squares   F-statistic:                     549.1\n",
      "Date:                Sat, 05 Aug 2023   Prob (F-statistic):           1.35e-49\n",
      "Time:                        17:36:22   Log-Likelihood:                -310.15\n",
      "No. Observations:                 138   AIC:                             624.3\n",
      "Df Residuals:                     136   BIC:                             630.2\n",
      "Df Model:                           1                                         \n",
      "Covariance Type:            nonrobust                                         \n",
      "==============================================================================\n",
      "                 coef    std err          t      P>|t|      [0.025      0.975]\n",
      "------------------------------------------------------------------------------\n",
      "const          7.0651      0.402     17.554      0.000       6.269       7.861\n",
      "TV             0.0540      0.002     23.433      0.000       0.049       0.059\n",
      "==============================================================================\n",
      "Omnibus:                        0.350   Durbin-Watson:                   2.064\n",
      "Prob(Omnibus):                  0.840   Jarque-Bera (JB):                0.195\n",
      "Skew:                           0.090   Prob(JB):                        0.907\n",
      "Kurtosis:                       3.040   Cond. No.                         358.\n",
      "==============================================================================\n",
      "\n",
      "Notes:\n",
      "[1] Standard Errors assume that the covariance matrix of the errors is correctly specified.\n"
     ]
    }
   ],
   "source": [
    " # Performing a summary operation lists out all the different parameters of the regression line fitted\n",
    "print(lr.summary())"
   ]
  },
  {
   "cell_type": "markdown",
   "id": "e1e8546c",
   "metadata": {},
   "source": [
    "Notes:\n",
    "[1] Standard Errors assume that the covariance matrix of the errors is correctly specified"
   ]
  },
  {
   "cell_type": "markdown",
   "id": "447a76f0",
   "metadata": {},
   "source": [
    "Looking at some key statistics from the summary"
   ]
  },
  {
   "cell_type": "markdown",
   "id": "113541da",
   "metadata": {},
   "source": [
    "The values we are concerned with are -"
   ]
  },
  {
   "cell_type": "markdown",
   "id": "c1af6114",
   "metadata": {},
   "source": [
    "\n",
    "     1. The coefficients and significance (p-values)\n",
    "      2. R-squared\n",
    "      3. F statistic and its significance\n"
   ]
  },
  {
   "cell_type": "markdown",
   "id": "d6da1019",
   "metadata": {},
   "source": [
    "\n",
    "1. The coefficient for TV is 0.054, with a very low p value\n",
    "\n",
    "    The coefficient is statistically significant. So the association is not purely by chance.\n"
   ]
  },
  {
   "cell_type": "markdown",
   "id": "75d5f4d7",
   "metadata": {},
   "source": [
    "2. R - squared is 0.816\n",
    "\n",
    "Meaning that 81.6% of the variance in Sales is explained by TV"
   ]
  },
  {
   "cell_type": "markdown",
   "id": "2424c0fd",
   "metadata": {},
   "source": [
    "This is a decent R-squared value."
   ]
  },
  {
   "cell_type": "markdown",
   "id": "6c64e032",
   "metadata": {},
   "source": [
    "\n",
    "3. F statistic has a very low p value (practically low)\n",
    "\n",
    "Meaning that the model fit is statistically significant, and the explained variance isn't purely by chance.\n"
   ]
  },
  {
   "cell_type": "markdown",
   "id": "73c36f3b",
   "metadata": {},
   "source": [
    "The fit is significant. Let's visualize how well the model fit the data.\n",
    "\n",
    "From the parameters that we get, our linear regression equation becomes:"
   ]
  },
  {
   "cell_type": "markdown",
   "id": "88096a43",
   "metadata": {},
   "source": [
    "Sales = 6.948 +0.054xTV"
   ]
  },
  {
   "cell_type": "code",
   "execution_count": 27,
   "id": "59c326f5",
   "metadata": {},
   "outputs": [
    {
     "data": {
      "image/png": "[encoded data removed]",
      "text/plain": [
       "<Figure size 640x480 with 1 Axes>"
      ]
     },
     "metadata": {},
     "output_type": "display_data"
    }
   ],
   "source": [
    "plt.scatter(X_train, y_train)\n",
    "plt.plot(X_train, 6.948 + 0.054*X_train, 'r')\n",
    "plt.show()"
   ]
  },
  {
   "cell_type": "markdown",
   "id": "628998af",
   "metadata": {},
   "source": [
    "# Model Evaluation"
   ]
  },
  {
   "cell_type": "markdown",
   "id": "e26fb2f1",
   "metadata": {},
   "source": [
    "# Residual analysis"
   ]
  },
  {
   "cell_type": "markdown",
   "id": "848aa317",
   "metadata": {},
   "source": [
    "To validate assumptions of the model, and hence the reliability for inference"
   ]
  },
  {
   "cell_type": "markdown",
   "id": "4b81cd1f",
   "metadata": {},
   "source": [
    "# Distribution of the error terms"
   ]
  },
  {
   "cell_type": "markdown",
   "id": "16e3d3bb",
   "metadata": {},
   "source": [
    "We need to check if the error terms are also normally distributed (which is infact, one of the major assumptions of linear regression), let us plot the histogram of the error terms and see what it looks like."
   ]
  },
  {
   "cell_type": "code",
   "execution_count": 28,
   "id": "a84aa133",
   "metadata": {},
   "outputs": [],
   "source": [
    "y_train_pred = lr.predict(X_train_sm)\n",
    "res = (y_train - y_train_pred)"
   ]
  },
  {
   "cell_type": "code",
   "execution_count": 29,
   "id": "5c29d783",
   "metadata": {},
   "outputs": [
    {
     "data": {
      "image/png": "[encoded data removed]",
      "text/plain": [
       "<Figure size 640x480 with 1 Axes>"
      ]
     },
     "metadata": {},
     "output_type": "display_data"
    }
   ],
   "source": [
    "fig = plt.figure()\n",
    "sns.distplot(res, bins = 15)\n",
    "fig.suptitle('Error Terms', fontsize = 15)                  # Plot heading \n",
    "plt.xlabel('y_train - y_train_pred', fontsize = 15)         # X-label\n",
    "plt.show()"
   ]
  },
  {
   "cell_type": "markdown",
   "id": "1adfb9c6",
   "metadata": {},
   "source": [
    "The residuals are following the normally distributed with a mean 0. All good"
   ]
  },
  {
   "cell_type": "markdown",
   "id": "15f14fba",
   "metadata": {},
   "source": [
    "# Looking for patterns in the residuals"
   ]
  },
  {
   "cell_type": "code",
   "execution_count": 30,
   "id": "19ed0350",
   "metadata": {},
   "outputs": [
    {
     "data": {
      "image/png": "[encoded data removed]",
      "text/plain": [
       "<Figure size 640x480 with 1 Axes>"
      ]
     },
     "metadata": {},
     "output_type": "display_data"
    }
   ],
   "source": [
    "plt.scatter(X_train,res)\n",
    "plt.show()"
   ]
  },
  {
   "cell_type": "markdown",
   "id": "ec0cf9a7",
   "metadata": {},
   "source": [
    "We are confident that the model fit isn't by chance, and has decent predictive power. The normality of residual terms allows some inference on the coefficients."
   ]
  },
  {
   "cell_type": "markdown",
   "id": "3f796d62",
   "metadata": {},
   "source": [
    "Although, the variance of residuals increasing with X indicates that there is significant variation that this model is unable to explain."
   ]
  },
  {
   "cell_type": "markdown",
   "id": "61659cde",
   "metadata": {},
   "source": [
    "As you can see, the regression line is a pretty good fit to the data"
   ]
  },
  {
   "cell_type": "markdown",
   "id": "404a5f86",
   "metadata": {},
   "source": [
    "# Predictions on the Test Set"
   ]
  },
  {
   "cell_type": "markdown",
   "id": "5056d7f1",
   "metadata": {},
   "source": [
    "Now that you have fitted a regression line on your train dataset, it's time to make some predictions on the test data. For this, you first need to add a constant to the X_test data like you did for X_train and then you can simply go on and predict the y values corresponding to X_test using the predict attribute of the fitted regression line."
   ]
  },
  {
   "cell_type": "code",
   "execution_count": 31,
   "id": "35419326",
   "metadata": {},
   "outputs": [],
   "source": [
    "# Add a constant to X_test\n",
    "X_test_sm = sm.add_constant(X_test)\n",
    "\n",
    "# Predict the y values corresponding to X_test_sm\n",
    "y_pred = lr.predict(X_test_sm)"
   ]
  },
  {
   "cell_type": "code",
   "execution_count": 32,
   "id": "437ca856",
   "metadata": {},
   "outputs": [
    {
     "data": {
      "text/plain": [
       "128    18.955535\n",
       "106     8.414434\n",
       "100    19.068880\n",
       "93     20.607136\n",
       "113    18.378015\n",
       "dtype: float64"
      ]
     },
     "execution_count": 32,
     "metadata": {},
     "output_type": "execute_result"
    }
   ],
   "source": [
    "y_pred.head()"
   ]
  },
  {
   "cell_type": "code",
   "execution_count": 33,
   "id": "83b5438d",
   "metadata": {},
   "outputs": [],
   "source": [
    "from sklearn.metrics import mean_squared_error\n",
    "from sklearn.metrics import r2_score"
   ]
  },
  {
   "cell_type": "markdown",
   "id": "bd61bef6",
   "metadata": {},
   "source": [
    "Looking at the RMSE"
   ]
  },
  {
   "cell_type": "code",
   "execution_count": 34,
   "id": "298b2df1",
   "metadata": {},
   "outputs": [
    {
     "data": {
      "text/plain": [
       "2.3194524291283725"
      ]
     },
     "execution_count": 34,
     "metadata": {},
     "output_type": "execute_result"
    }
   ],
   "source": [
    "#Returns the mean squared error; we'll take a square root\n",
    "np.sqrt(mean_squared_error(y_test, y_pred))"
   ]
  },
  {
   "cell_type": "markdown",
   "id": "3d41a6fe",
   "metadata": {},
   "source": [
    "\n",
    "Checking the R-squared on the test set\n"
   ]
  },
  {
   "cell_type": "code",
   "execution_count": 35,
   "id": "f5b01e5e",
   "metadata": {},
   "outputs": [
    {
     "data": {
      "text/plain": [
       "0.8217200792673927"
      ]
     },
     "execution_count": 35,
     "metadata": {},
     "output_type": "execute_result"
    }
   ],
   "source": [
    "r_squared = r2_score(y_test, y_pred)\n",
    "r_squared"
   ]
  },
  {
   "cell_type": "markdown",
   "id": "277f870d",
   "metadata": {},
   "source": [
    "\n",
    "Visualizing the fit on the test set\n"
   ]
  },
  {
   "cell_type": "code",
   "execution_count": 36,
   "id": "16e02849",
   "metadata": {},
   "outputs": [
    {
     "data": {
      "image/png": "[encoded data removed]",
      "text/plain": [
       "<Figure size 640x480 with 1 Axes>"
      ]
     },
     "metadata": {},
     "output_type": "display_data"
    }
   ],
   "source": [
    "plt.scatter(X_test, y_test)\n",
    "plt.plot(X_test, 6.948 + 0.054 * X_test, 'r')\n",
    "plt.show()"
   ]
  },
  {
   "cell_type": "code",
   "execution_count": 37,
   "id": "897cfddb",
   "metadata": {},
   "outputs": [],
   "source": [
    "#Model With the Second variable \n",
    "X2 = advertising[['TV',\"Radio\"]]\n",
    "y2 = advertising['Sales']"
   ]
  },
  {
   "cell_type": "code",
   "execution_count": 38,
   "id": "9dd81163",
   "metadata": {},
   "outputs": [],
   "source": [
    "from sklearn.model_selection import train_test_split\n",
    "X_train2, X_test2, y_train2, y_test2 = train_test_split(X2, y2, train_size = 0.7, test_size = 0.3, random_state = 100)\n",
    "\n",
    "\n",
    "\n"
   ]
  },
  {
   "cell_type": "code",
   "execution_count": 39,
   "id": "300cad97",
   "metadata": {},
   "outputs": [
    {
     "data": {
      "text/html": [
       "<div>\n",
       "<style scoped>\n",
       "    .dataframe tbody tr th:only-of-type {\n",
       "        vertical-align: middle;\n",
       "    }\n",
       "\n",
       "    .dataframe tbody tr th {\n",
       "        vertical-align: top;\n",
       "    }\n",
       "\n",
       "    .dataframe thead th {\n",
       "        text-align: right;\n",
       "    }\n",
       "</style>\n",
       "<table border=\"1\" class=\"dataframe\">\n",
       "  <thead>\n",
       "    <tr style=\"text-align: right;\">\n",
       "      <th></th>\n",
       "      <th>TV</th>\n",
       "      <th>Radio</th>\n",
       "    </tr>\n",
       "  </thead>\n",
       "  <tbody>\n",
       "    <tr>\n",
       "      <th>75</th>\n",
       "      <td>16.9</td>\n",
       "      <td>43.7</td>\n",
       "    </tr>\n",
       "    <tr>\n",
       "      <th>3</th>\n",
       "      <td>151.5</td>\n",
       "      <td>41.3</td>\n",
       "    </tr>\n",
       "    <tr>\n",
       "      <th>185</th>\n",
       "      <td>205.0</td>\n",
       "      <td>45.1</td>\n",
       "    </tr>\n",
       "    <tr>\n",
       "      <th>27</th>\n",
       "      <td>240.1</td>\n",
       "      <td>16.7</td>\n",
       "    </tr>\n",
       "    <tr>\n",
       "      <th>91</th>\n",
       "      <td>28.6</td>\n",
       "      <td>1.5</td>\n",
       "    </tr>\n",
       "  </tbody>\n",
       "</table>\n",
       "</div>"
      ],
      "text/plain": [
       "        TV  Radio\n",
       "75    16.9   43.7\n",
       "3    151.5   41.3\n",
       "185  205.0   45.1\n",
       "27   240.1   16.7\n",
       "91    28.6    1.5"
      ]
     },
     "execution_count": 39,
     "metadata": {},
     "output_type": "execute_result"
    }
   ],
   "source": [
    "\n",
    "\n",
    "X_train2.head()\n",
    "\n"
   ]
  },
  {
   "cell_type": "code",
   "execution_count": 40,
   "id": "7975079f",
   "metadata": {},
   "outputs": [
    {
     "data": {
      "text/plain": [
       "75      8.7\n",
       "3      16.5\n",
       "185    22.6\n",
       "27     20.9\n",
       "91      7.3\n",
       "Name: Sales, dtype: float64"
      ]
     },
     "execution_count": 40,
     "metadata": {},
     "output_type": "execute_result"
    }
   ],
   "source": [
    "y_train2.head()"
   ]
  },
  {
   "cell_type": "code",
   "execution_count": 41,
   "id": "6d500943",
   "metadata": {},
   "outputs": [],
   "source": [
    "# Add a constant to get an intercept\n",
    "X_train_sm2 = sm.add_constant(X_train2)\n",
    "\n",
    "# Fit the resgression line using 'OLS'\n",
    "lr2 = sm.OLS(y_train2, X_train_sm2).fit()"
   ]
  },
  {
   "cell_type": "code",
   "execution_count": 42,
   "id": "b40d1096",
   "metadata": {},
   "outputs": [
    {
     "data": {
      "text/plain": [
       "const    4.433206\n",
       "TV       0.053632\n",
       "Radio    0.118743\n",
       "dtype: float64"
      ]
     },
     "execution_count": 42,
     "metadata": {},
     "output_type": "execute_result"
    }
   ],
   "source": [
    "lr2.params"
   ]
  },
  {
   "cell_type": "code",
   "execution_count": 43,
   "id": "cdea132d",
   "metadata": {},
   "outputs": [
    {
     "name": "stdout",
     "output_type": "stream",
     "text": [
      "                            OLS Regression Results                            \n",
      "==============================================================================\n",
      "Dep. Variable:                  Sales   R-squared:                       0.919\n",
      "Model:                            OLS   Adj. R-squared:                  0.917\n",
      "Method:                 Least Squares   F-statistic:                     762.1\n",
      "Date:                Sat, 05 Aug 2023   Prob (F-statistic):           2.84e-74\n",
      "Time:                        17:36:23   Log-Likelihood:                -248.61\n",
      "No. Observations:                 138   AIC:                             503.2\n",
      "Df Residuals:                     135   BIC:                             512.0\n",
      "Df Model:                           2                                         \n",
      "Covariance Type:            nonrobust                                         \n",
      "==============================================================================\n",
      "                 coef    std err          t      P>|t|      [0.025      0.975]\n",
      "------------------------------------------------------------------------------\n",
      "const          4.4332      0.320     13.845      0.000       3.800       5.066\n",
      "TV             0.0536      0.001     36.231      0.000       0.051       0.057\n",
      "Radio          0.1187      0.009     13.942      0.000       0.102       0.136\n",
      "==============================================================================\n",
      "Omnibus:                        2.429   Durbin-Watson:                   1.788\n",
      "Prob(Omnibus):                  0.297   Jarque-Bera (JB):                2.212\n",
      "Skew:                          -0.085   Prob(JB):                        0.331\n",
      "Kurtosis:                       3.596   Cond. No.                         446.\n",
      "==============================================================================\n",
      "\n",
      "Notes:\n",
      "[1] Standard Errors assume that the covariance matrix of the errors is correctly specified.\n"
     ]
    }
   ],
   "source": [
    "print(lr2.summary())"
   ]
  },
  {
   "cell_type": "code",
   "execution_count": 44,
   "id": "5d2f0cd1",
   "metadata": {},
   "outputs": [],
   "source": [
    "X_test_sm = sm.add_constant(X_test2)\n",
    "\n",
    "# Predict the y values corresponding to X_test_sm\n",
    "y_pred = lr2.predict(X_test_sm)"
   ]
  },
  {
   "cell_type": "code",
   "execution_count": 45,
   "id": "9b594c72",
   "metadata": {},
   "outputs": [
    {
     "data": {
      "text/plain": [
       "0.8613917235700398"
      ]
     },
     "execution_count": 45,
     "metadata": {},
     "output_type": "execute_result"
    }
   ],
   "source": [
    "r_squared = r2_score(y_test2, y_pred)\n",
    "r_squared"
   ]
  },
  {
   "cell_type": "markdown",
   "id": "c06d579b",
   "metadata": {},
   "source": [
    "# with noramlization"
   ]
  },
  {
   "cell_type": "code",
   "execution_count": 46,
   "id": "1d6eeb48",
   "metadata": {},
   "outputs": [
    {
     "name": "stdout",
     "output_type": "stream",
     "text": [
      "(138, 4)\n",
      "(60, 4)\n"
     ]
    }
   ],
   "source": [
    "df_train, df_test = train_test_split(advertising, train_size=0.7, random_state=20)\n",
    "print(df_train.shape)\n",
    "print(df_test.shape)"
   ]
  },
  {
   "cell_type": "code",
   "execution_count": 47,
   "id": "9052af37",
   "metadata": {},
   "outputs": [
    {
     "data": {
      "text/html": [
       "<div>\n",
       "<style scoped>\n",
       "    .dataframe tbody tr th:only-of-type {\n",
       "        vertical-align: middle;\n",
       "    }\n",
       "\n",
       "    .dataframe tbody tr th {\n",
       "        vertical-align: top;\n",
       "    }\n",
       "\n",
       "    .dataframe thead th {\n",
       "        text-align: right;\n",
       "    }\n",
       "</style>\n",
       "<table border=\"1\" class=\"dataframe\">\n",
       "  <thead>\n",
       "    <tr style=\"text-align: right;\">\n",
       "      <th></th>\n",
       "      <th>TV</th>\n",
       "      <th>Radio</th>\n",
       "      <th>Newspaper</th>\n",
       "      <th>Sales</th>\n",
       "    </tr>\n",
       "  </thead>\n",
       "  <tbody>\n",
       "    <tr>\n",
       "      <th>22</th>\n",
       "      <td>13.2</td>\n",
       "      <td>15.9</td>\n",
       "      <td>49.6</td>\n",
       "      <td>5.6</td>\n",
       "    </tr>\n",
       "    <tr>\n",
       "      <th>46</th>\n",
       "      <td>89.7</td>\n",
       "      <td>9.9</td>\n",
       "      <td>35.7</td>\n",
       "      <td>10.6</td>\n",
       "    </tr>\n",
       "    <tr>\n",
       "      <th>149</th>\n",
       "      <td>44.7</td>\n",
       "      <td>25.8</td>\n",
       "      <td>20.6</td>\n",
       "      <td>10.1</td>\n",
       "    </tr>\n",
       "    <tr>\n",
       "      <th>126</th>\n",
       "      <td>7.8</td>\n",
       "      <td>38.9</td>\n",
       "      <td>50.6</td>\n",
       "      <td>6.6</td>\n",
       "    </tr>\n",
       "    <tr>\n",
       "      <th>91</th>\n",
       "      <td>28.6</td>\n",
       "      <td>1.5</td>\n",
       "      <td>33.0</td>\n",
       "      <td>7.3</td>\n",
       "    </tr>\n",
       "  </tbody>\n",
       "</table>\n",
       "</div>"
      ],
      "text/plain": [
       "       TV  Radio  Newspaper  Sales\n",
       "22   13.2   15.9       49.6    5.6\n",
       "46   89.7    9.9       35.7   10.6\n",
       "149  44.7   25.8       20.6   10.1\n",
       "126   7.8   38.9       50.6    6.6\n",
       "91   28.6    1.5       33.0    7.3"
      ]
     },
     "execution_count": 47,
     "metadata": {},
     "output_type": "execute_result"
    }
   ],
   "source": [
    "df_train.head()"
   ]
  },
  {
   "cell_type": "code",
   "execution_count": 48,
   "id": "811062a6",
   "metadata": {},
   "outputs": [
    {
     "data": {
      "text/html": [
       "<div>\n",
       "<style scoped>\n",
       "    .dataframe tbody tr th:only-of-type {\n",
       "        vertical-align: middle;\n",
       "    }\n",
       "\n",
       "    .dataframe tbody tr th {\n",
       "        vertical-align: top;\n",
       "    }\n",
       "\n",
       "    .dataframe thead th {\n",
       "        text-align: right;\n",
       "    }\n",
       "</style>\n",
       "<table border=\"1\" class=\"dataframe\">\n",
       "  <thead>\n",
       "    <tr style=\"text-align: right;\">\n",
       "      <th></th>\n",
       "      <th>TV</th>\n",
       "      <th>Radio</th>\n",
       "      <th>Newspaper</th>\n",
       "      <th>Sales</th>\n",
       "    </tr>\n",
       "  </thead>\n",
       "  <tbody>\n",
       "    <tr>\n",
       "      <th>22</th>\n",
       "      <td>0.018894</td>\n",
       "      <td>0.320565</td>\n",
       "      <td>0.553311</td>\n",
       "      <td>0.038647</td>\n",
       "    </tr>\n",
       "    <tr>\n",
       "      <th>46</th>\n",
       "      <td>0.286564</td>\n",
       "      <td>0.199597</td>\n",
       "      <td>0.397306</td>\n",
       "      <td>0.280193</td>\n",
       "    </tr>\n",
       "    <tr>\n",
       "      <th>149</th>\n",
       "      <td>0.129111</td>\n",
       "      <td>0.520161</td>\n",
       "      <td>0.227834</td>\n",
       "      <td>0.256039</td>\n",
       "    </tr>\n",
       "    <tr>\n",
       "      <th>126</th>\n",
       "      <td>0.000000</td>\n",
       "      <td>0.784274</td>\n",
       "      <td>0.564534</td>\n",
       "      <td>0.086957</td>\n",
       "    </tr>\n",
       "    <tr>\n",
       "      <th>91</th>\n",
       "      <td>0.072778</td>\n",
       "      <td>0.030242</td>\n",
       "      <td>0.367003</td>\n",
       "      <td>0.120773</td>\n",
       "    </tr>\n",
       "  </tbody>\n",
       "</table>\n",
       "</div>"
      ],
      "text/plain": [
       "           TV     Radio  Newspaper     Sales\n",
       "22   0.018894  0.320565   0.553311  0.038647\n",
       "46   0.286564  0.199597   0.397306  0.280193\n",
       "149  0.129111  0.520161   0.227834  0.256039\n",
       "126  0.000000  0.784274   0.564534  0.086957\n",
       "91   0.072778  0.030242   0.367003  0.120773"
      ]
     },
     "execution_count": 48,
     "metadata": {},
     "output_type": "execute_result"
    }
   ],
   "source": [
    "from sklearn.preprocessing import MinMaxScaler\n",
    "scaler = MinMaxScaler() # instance of the MinMaxScaler\n",
    "\n",
    "# numerical variables to scale:\n",
    "num_vars = ['TV',\"Radio\", \"Newspaper\" ,\"Sales\"]\n",
    "\n",
    "\n",
    "# scaling the num vars of the training data\n",
    "df_train[num_vars] = scaler.fit_transform(df_train[num_vars])\n",
    "df_train.head()"
   ]
  },
  {
   "cell_type": "code",
   "execution_count": 49,
   "id": "17b98cbe",
   "metadata": {},
   "outputs": [],
   "source": [
    "y_train = df_train.pop('Sales')\n",
    "X_train = df_train[[\"TV\",\"Radio\"]]\n",
    "\n"
   ]
  },
  {
   "cell_type": "code",
   "execution_count": 50,
   "id": "4bfe5c7e",
   "metadata": {},
   "outputs": [
    {
     "data": {
      "text/plain": [
       "22     0.038647\n",
       "46     0.280193\n",
       "149    0.256039\n",
       "126    0.086957\n",
       "91     0.120773\n",
       "Name: Sales, dtype: float64"
      ]
     },
     "execution_count": 50,
     "metadata": {},
     "output_type": "execute_result"
    }
   ],
   "source": [
    "y_train.head()"
   ]
  },
  {
   "cell_type": "code",
   "execution_count": 51,
   "id": "9cabb3ba",
   "metadata": {},
   "outputs": [
    {
     "data": {
      "text/html": [
       "<div>\n",
       "<style scoped>\n",
       "    .dataframe tbody tr th:only-of-type {\n",
       "        vertical-align: middle;\n",
       "    }\n",
       "\n",
       "    .dataframe tbody tr th {\n",
       "        vertical-align: top;\n",
       "    }\n",
       "\n",
       "    .dataframe thead th {\n",
       "        text-align: right;\n",
       "    }\n",
       "</style>\n",
       "<table border=\"1\" class=\"dataframe\">\n",
       "  <thead>\n",
       "    <tr style=\"text-align: right;\">\n",
       "      <th></th>\n",
       "      <th>TV</th>\n",
       "      <th>Radio</th>\n",
       "    </tr>\n",
       "  </thead>\n",
       "  <tbody>\n",
       "    <tr>\n",
       "      <th>22</th>\n",
       "      <td>0.018894</td>\n",
       "      <td>0.320565</td>\n",
       "    </tr>\n",
       "    <tr>\n",
       "      <th>46</th>\n",
       "      <td>0.286564</td>\n",
       "      <td>0.199597</td>\n",
       "    </tr>\n",
       "    <tr>\n",
       "      <th>149</th>\n",
       "      <td>0.129111</td>\n",
       "      <td>0.520161</td>\n",
       "    </tr>\n",
       "    <tr>\n",
       "      <th>126</th>\n",
       "      <td>0.000000</td>\n",
       "      <td>0.784274</td>\n",
       "    </tr>\n",
       "    <tr>\n",
       "      <th>91</th>\n",
       "      <td>0.072778</td>\n",
       "      <td>0.030242</td>\n",
       "    </tr>\n",
       "  </tbody>\n",
       "</table>\n",
       "</div>"
      ],
      "text/plain": [
       "           TV     Radio\n",
       "22   0.018894  0.320565\n",
       "46   0.286564  0.199597\n",
       "149  0.129111  0.520161\n",
       "126  0.000000  0.784274\n",
       "91   0.072778  0.030242"
      ]
     },
     "execution_count": 51,
     "metadata": {},
     "output_type": "execute_result"
    }
   ],
   "source": [
    "X_train.head()"
   ]
  },
  {
   "cell_type": "code",
   "execution_count": 52,
   "id": "ff531aa7",
   "metadata": {},
   "outputs": [],
   "source": [
    "# Add a constant to get an intercept\n",
    "X_train_sm_2 = sm.add_constant(X_train)\n",
    "\n",
    "# Fit the resgression line using 'OLS'\n",
    "lr3 = sm.OLS(y_train, X_train_sm_2).fit()\n",
    "\n",
    "\n",
    "\n"
   ]
  },
  {
   "cell_type": "code",
   "execution_count": 53,
   "id": "c302fe0f",
   "metadata": {},
   "outputs": [
    {
     "data": {
      "text/html": [
       "<div>\n",
       "<style scoped>\n",
       "    .dataframe tbody tr th:only-of-type {\n",
       "        vertical-align: middle;\n",
       "    }\n",
       "\n",
       "    .dataframe tbody tr th {\n",
       "        vertical-align: top;\n",
       "    }\n",
       "\n",
       "    .dataframe thead th {\n",
       "        text-align: right;\n",
       "    }\n",
       "</style>\n",
       "<table border=\"1\" class=\"dataframe\">\n",
       "  <thead>\n",
       "    <tr style=\"text-align: right;\">\n",
       "      <th></th>\n",
       "      <th>const</th>\n",
       "      <th>TV</th>\n",
       "      <th>Radio</th>\n",
       "    </tr>\n",
       "  </thead>\n",
       "  <tbody>\n",
       "    <tr>\n",
       "      <th>22</th>\n",
       "      <td>1.0</td>\n",
       "      <td>0.018894</td>\n",
       "      <td>0.320565</td>\n",
       "    </tr>\n",
       "    <tr>\n",
       "      <th>46</th>\n",
       "      <td>1.0</td>\n",
       "      <td>0.286564</td>\n",
       "      <td>0.199597</td>\n",
       "    </tr>\n",
       "    <tr>\n",
       "      <th>149</th>\n",
       "      <td>1.0</td>\n",
       "      <td>0.129111</td>\n",
       "      <td>0.520161</td>\n",
       "    </tr>\n",
       "    <tr>\n",
       "      <th>126</th>\n",
       "      <td>1.0</td>\n",
       "      <td>0.000000</td>\n",
       "      <td>0.784274</td>\n",
       "    </tr>\n",
       "    <tr>\n",
       "      <th>91</th>\n",
       "      <td>1.0</td>\n",
       "      <td>0.072778</td>\n",
       "      <td>0.030242</td>\n",
       "    </tr>\n",
       "    <tr>\n",
       "      <th>...</th>\n",
       "      <td>...</td>\n",
       "      <td>...</td>\n",
       "      <td>...</td>\n",
       "    </tr>\n",
       "    <tr>\n",
       "      <th>150</th>\n",
       "      <td>1.0</td>\n",
       "      <td>0.954864</td>\n",
       "      <td>0.280242</td>\n",
       "    </tr>\n",
       "    <tr>\n",
       "      <th>139</th>\n",
       "      <td>1.0</td>\n",
       "      <td>0.619664</td>\n",
       "      <td>0.885081</td>\n",
       "    </tr>\n",
       "    <tr>\n",
       "      <th>158</th>\n",
       "      <td>1.0</td>\n",
       "      <td>0.013646</td>\n",
       "      <td>0.743952</td>\n",
       "    </tr>\n",
       "    <tr>\n",
       "      <th>15</th>\n",
       "      <td>1.0</td>\n",
       "      <td>0.656403</td>\n",
       "      <td>0.961694</td>\n",
       "    </tr>\n",
       "    <tr>\n",
       "      <th>100</th>\n",
       "      <td>1.0</td>\n",
       "      <td>0.750875</td>\n",
       "      <td>0.086694</td>\n",
       "    </tr>\n",
       "  </tbody>\n",
       "</table>\n",
       "<p>138 rows × 3 columns</p>\n",
       "</div>"
      ],
      "text/plain": [
       "     const        TV     Radio\n",
       "22     1.0  0.018894  0.320565\n",
       "46     1.0  0.286564  0.199597\n",
       "149    1.0  0.129111  0.520161\n",
       "126    1.0  0.000000  0.784274\n",
       "91     1.0  0.072778  0.030242\n",
       "..     ...       ...       ...\n",
       "150    1.0  0.954864  0.280242\n",
       "139    1.0  0.619664  0.885081\n",
       "158    1.0  0.013646  0.743952\n",
       "15     1.0  0.656403  0.961694\n",
       "100    1.0  0.750875  0.086694\n",
       "\n",
       "[138 rows x 3 columns]"
      ]
     },
     "execution_count": 53,
     "metadata": {},
     "output_type": "execute_result"
    }
   ],
   "source": [
    "X_train_sm_2"
   ]
  },
  {
   "cell_type": "code",
   "execution_count": 54,
   "id": "9040a518",
   "metadata": {},
   "outputs": [
    {
     "name": "stdout",
     "output_type": "stream",
     "text": [
      "                            OLS Regression Results                            \n",
      "==============================================================================\n",
      "Dep. Variable:                  Sales   R-squared:                       0.899\n",
      "Model:                            OLS   Adj. R-squared:                  0.897\n",
      "Method:                 Least Squares   F-statistic:                     600.2\n",
      "Date:                Sat, 05 Aug 2023   Prob (F-statistic):           6.58e-68\n",
      "Time:                        17:36:23   Log-Likelihood:                 160.67\n",
      "No. Observations:                 138   AIC:                            -315.3\n",
      "Df Residuals:                     135   BIC:                            -306.6\n",
      "Df Model:                           2                                         \n",
      "Covariance Type:            nonrobust                                         \n",
      "==============================================================================\n",
      "                 coef    std err          t      P>|t|      [0.025      0.975]\n",
      "------------------------------------------------------------------------------\n",
      "const          0.0275      0.016      1.731      0.086      -0.004       0.059\n",
      "TV             0.7215      0.023     31.575      0.000       0.676       0.767\n",
      "Radio          0.2700      0.022     12.002      0.000       0.226       0.315\n",
      "==============================================================================\n",
      "Omnibus:                        1.243   Durbin-Watson:                   2.103\n",
      "Prob(Omnibus):                  0.537   Jarque-Bera (JB):                0.827\n",
      "Skew:                          -0.017   Prob(JB):                        0.661\n",
      "Kurtosis:                       3.378   Cond. No.                         4.94\n",
      "==============================================================================\n",
      "\n",
      "Notes:\n",
      "[1] Standard Errors assume that the covariance matrix of the errors is correctly specified.\n"
     ]
    }
   ],
   "source": [
    "print(lr3.summary())"
   ]
  },
  {
   "cell_type": "code",
   "execution_count": 55,
   "id": "5a6a986b",
   "metadata": {},
   "outputs": [
    {
     "data": {
      "text/html": [
       "<div>\n",
       "<style scoped>\n",
       "    .dataframe tbody tr th:only-of-type {\n",
       "        vertical-align: middle;\n",
       "    }\n",
       "\n",
       "    .dataframe tbody tr th {\n",
       "        vertical-align: top;\n",
       "    }\n",
       "\n",
       "    .dataframe thead th {\n",
       "        text-align: right;\n",
       "    }\n",
       "</style>\n",
       "<table border=\"1\" class=\"dataframe\">\n",
       "  <thead>\n",
       "    <tr style=\"text-align: right;\">\n",
       "      <th></th>\n",
       "      <th>TV</th>\n",
       "      <th>Radio</th>\n",
       "      <th>Newspaper</th>\n",
       "      <th>Sales</th>\n",
       "    </tr>\n",
       "  </thead>\n",
       "  <tbody>\n",
       "    <tr>\n",
       "      <th>108</th>\n",
       "      <td>0.018544</td>\n",
       "      <td>0.008065</td>\n",
       "      <td>0.283951</td>\n",
       "      <td>0.024155</td>\n",
       "    </tr>\n",
       "    <tr>\n",
       "      <th>29</th>\n",
       "      <td>0.219734</td>\n",
       "      <td>0.322581</td>\n",
       "      <td>0.454545</td>\n",
       "      <td>0.275362</td>\n",
       "    </tr>\n",
       "    <tr>\n",
       "      <th>13</th>\n",
       "      <td>0.313856</td>\n",
       "      <td>0.153226</td>\n",
       "      <td>0.077441</td>\n",
       "      <td>0.429952</td>\n",
       "    </tr>\n",
       "    <tr>\n",
       "      <th>52</th>\n",
       "      <td>0.729881</td>\n",
       "      <td>0.840726</td>\n",
       "      <td>0.441077</td>\n",
       "      <td>0.859903</td>\n",
       "    </tr>\n",
       "    <tr>\n",
       "      <th>192</th>\n",
       "      <td>0.032890</td>\n",
       "      <td>0.082661</td>\n",
       "      <td>0.351291</td>\n",
       "      <td>0.053140</td>\n",
       "    </tr>\n",
       "  </tbody>\n",
       "</table>\n",
       "</div>"
      ],
      "text/plain": [
       "           TV     Radio  Newspaper     Sales\n",
       "108  0.018544  0.008065   0.283951  0.024155\n",
       "29   0.219734  0.322581   0.454545  0.275362\n",
       "13   0.313856  0.153226   0.077441  0.429952\n",
       "52   0.729881  0.840726   0.441077  0.859903\n",
       "192  0.032890  0.082661   0.351291  0.053140"
      ]
     },
     "execution_count": 55,
     "metadata": {},
     "output_type": "execute_result"
    }
   ],
   "source": [
    "# numerical variables to scale:\n",
    "num_vars = ['TV',\"Radio\", \"Newspaper\" ,\"Sales\"]\n",
    "\n",
    "\n",
    "# scaling the num vars of the test data\n",
    "df_test[num_vars] = scaler.transform(df_test[num_vars])\n",
    "df_test.head()"
   ]
  },
  {
   "cell_type": "code",
   "execution_count": 56,
   "id": "d69a30cc",
   "metadata": {},
   "outputs": [],
   "source": [
    "#Predictions on test set\n",
    "y_test = df_test.pop('Sales')\n",
    "X_test = df_test[[\"TV\",\"Radio\"]]"
   ]
  },
  {
   "cell_type": "code",
   "execution_count": 57,
   "id": "ba2f21d0",
   "metadata": {},
   "outputs": [],
   "source": [
    "# Add a constant to X_test\n",
    "X_test_sm = sm.add_constant(X_test)\n",
    "\n",
    "# Predict the y values corresponding to X_test_sm\n",
    "y_pred = lr3.predict(X_test_sm)"
   ]
  },
  {
   "cell_type": "code",
   "execution_count": 58,
   "id": "1841b025",
   "metadata": {},
   "outputs": [
    {
     "data": {
      "text/plain": [
       "0.8992834675806994"
      ]
     },
     "execution_count": 58,
     "metadata": {},
     "output_type": "execute_result"
    }
   ],
   "source": [
    "r_squared = r2_score(y_test, y_pred)\n",
    "r_squared"
   ]
  },
  {
   "cell_type": "code",
   "execution_count": 59,
   "id": "753ff8b4",
   "metadata": {},
   "outputs": [
    {
     "data": {
      "text/html": [
       "<div>\n",
       "<style scoped>\n",
       "    .dataframe tbody tr th:only-of-type {\n",
       "        vertical-align: middle;\n",
       "    }\n",
       "\n",
       "    .dataframe tbody tr th {\n",
       "        vertical-align: top;\n",
       "    }\n",
       "\n",
       "    .dataframe thead th {\n",
       "        text-align: right;\n",
       "    }\n",
       "</style>\n",
       "<table border=\"1\" class=\"dataframe\">\n",
       "  <thead>\n",
       "    <tr style=\"text-align: right;\">\n",
       "      <th></th>\n",
       "      <th>Features</th>\n",
       "      <th>VIF</th>\n",
       "    </tr>\n",
       "  </thead>\n",
       "  <tbody>\n",
       "    <tr>\n",
       "      <th>0</th>\n",
       "      <td>TV</td>\n",
       "      <td>2.25</td>\n",
       "    </tr>\n",
       "    <tr>\n",
       "      <th>1</th>\n",
       "      <td>Radio</td>\n",
       "      <td>2.25</td>\n",
       "    </tr>\n",
       "  </tbody>\n",
       "</table>\n",
       "</div>"
      ],
      "text/plain": [
       "  Features   VIF\n",
       "0       TV  2.25\n",
       "1    Radio  2.25"
      ]
     },
     "execution_count": 59,
     "metadata": {},
     "output_type": "execute_result"
    }
   ],
   "source": [
    "from statsmodels.stats.outliers_influence import variance_inflation_factor\n",
    "vif = pd.DataFrame()\n",
    "vif['Features'] = X_train.columns\n",
    "vif['VIF'] = [variance_inflation_factor(X_train.values, i) for i in range(X_train.shape[1])]\n",
    "vif['VIF'] = round(vif['VIF'], 2)\n",
    "vif = vif.sort_values(by = \"VIF\", ascending = False)\n",
    "vif"
   ]
  },
  {
   "cell_type": "markdown",
   "id": "45188a3b",
   "metadata": {},
   "source": [
    "# Model With Three variables"
   ]
  },
  {
   "cell_type": "code",
   "execution_count": 60,
   "id": "d7c1cf79",
   "metadata": {},
   "outputs": [],
   "source": [
    "#without Scaling the variables\n",
    "X4 = advertising[['TV',\"Radio\",\"Newspaper\"]]\n",
    "y4 = advertising['Sales']"
   ]
  },
  {
   "cell_type": "code",
   "execution_count": 61,
   "id": "fec312cb",
   "metadata": {},
   "outputs": [
    {
     "data": {
      "text/html": [
       "<div>\n",
       "<style scoped>\n",
       "    .dataframe tbody tr th:only-of-type {\n",
       "        vertical-align: middle;\n",
       "    }\n",
       "\n",
       "    .dataframe tbody tr th {\n",
       "        vertical-align: top;\n",
       "    }\n",
       "\n",
       "    .dataframe thead th {\n",
       "        text-align: right;\n",
       "    }\n",
       "</style>\n",
       "<table border=\"1\" class=\"dataframe\">\n",
       "  <thead>\n",
       "    <tr style=\"text-align: right;\">\n",
       "      <th></th>\n",
       "      <th>TV</th>\n",
       "      <th>Radio</th>\n",
       "      <th>Newspaper</th>\n",
       "    </tr>\n",
       "  </thead>\n",
       "  <tbody>\n",
       "    <tr>\n",
       "      <th>75</th>\n",
       "      <td>16.9</td>\n",
       "      <td>43.7</td>\n",
       "      <td>89.4</td>\n",
       "    </tr>\n",
       "    <tr>\n",
       "      <th>3</th>\n",
       "      <td>151.5</td>\n",
       "      <td>41.3</td>\n",
       "      <td>58.5</td>\n",
       "    </tr>\n",
       "    <tr>\n",
       "      <th>185</th>\n",
       "      <td>205.0</td>\n",
       "      <td>45.1</td>\n",
       "      <td>19.6</td>\n",
       "    </tr>\n",
       "    <tr>\n",
       "      <th>27</th>\n",
       "      <td>240.1</td>\n",
       "      <td>16.7</td>\n",
       "      <td>22.9</td>\n",
       "    </tr>\n",
       "    <tr>\n",
       "      <th>91</th>\n",
       "      <td>28.6</td>\n",
       "      <td>1.5</td>\n",
       "      <td>33.0</td>\n",
       "    </tr>\n",
       "  </tbody>\n",
       "</table>\n",
       "</div>"
      ],
      "text/plain": [
       "        TV  Radio  Newspaper\n",
       "75    16.9   43.7       89.4\n",
       "3    151.5   41.3       58.5\n",
       "185  205.0   45.1       19.6\n",
       "27   240.1   16.7       22.9\n",
       "91    28.6    1.5       33.0"
      ]
     },
     "execution_count": 61,
     "metadata": {},
     "output_type": "execute_result"
    }
   ],
   "source": [
    "\n",
    "\n",
    "from sklearn.model_selection import train_test_split\n",
    "X_train4, X_test4, y_train4, y_test4 = train_test_split(X4, y4, train_size = 0.7, test_size = 0.3, random_state = 100)\n",
    "\n",
    "X_train4.head()\n",
    "\n"
   ]
  },
  {
   "cell_type": "code",
   "execution_count": 62,
   "id": "0bea00cb",
   "metadata": {},
   "outputs": [
    {
     "data": {
      "text/plain": [
       "75      8.7\n",
       "3      16.5\n",
       "185    22.6\n",
       "27     20.9\n",
       "91      7.3\n",
       "Name: Sales, dtype: float64"
      ]
     },
     "execution_count": 62,
     "metadata": {},
     "output_type": "execute_result"
    }
   ],
   "source": [
    "y_train4.head()"
   ]
  },
  {
   "cell_type": "code",
   "execution_count": 63,
   "id": "cd435eb5",
   "metadata": {},
   "outputs": [],
   "source": [
    "# Add a constant to get an intercept\n",
    "X_train_sm4 = sm.add_constant(X_train4)\n",
    "\n",
    "# Fit the resgression line using 'OLS'\n",
    "lr4 = sm.OLS(y_train4, X_train_sm4).fit()"
   ]
  },
  {
   "cell_type": "code",
   "execution_count": 64,
   "id": "d3c241af",
   "metadata": {},
   "outputs": [
    {
     "name": "stdout",
     "output_type": "stream",
     "text": [
      "                            OLS Regression Results                            \n",
      "==============================================================================\n",
      "Dep. Variable:                  Sales   R-squared:                       0.919\n",
      "Model:                            OLS   Adj. R-squared:                  0.917\n",
      "Method:                 Least Squares   F-statistic:                     504.6\n",
      "Date:                Sat, 05 Aug 2023   Prob (F-statistic):           8.55e-73\n",
      "Time:                        17:36:23   Log-Likelihood:                -248.57\n",
      "No. Observations:                 138   AIC:                             505.1\n",
      "Df Residuals:                     134   BIC:                             516.8\n",
      "Df Model:                           3                                         \n",
      "Covariance Type:            nonrobust                                         \n",
      "==============================================================================\n",
      "                 coef    std err          t      P>|t|      [0.025      0.975]\n",
      "------------------------------------------------------------------------------\n",
      "const          4.4706      0.349     12.813      0.000       3.780       5.161\n",
      "TV             0.0536      0.001     36.049      0.000       0.051       0.057\n",
      "Radio          0.1199      0.009     12.666      0.000       0.101       0.139\n",
      "Newspaper     -0.0019      0.007     -0.275      0.784      -0.015       0.012\n",
      "==============================================================================\n",
      "Omnibus:                        2.311   Durbin-Watson:                   1.796\n",
      "Prob(Omnibus):                  0.315   Jarque-Bera (JB):                2.063\n",
      "Skew:                          -0.079   Prob(JB):                        0.356\n",
      "Kurtosis:                       3.578   Cond. No.                         491.\n",
      "==============================================================================\n",
      "\n",
      "Notes:\n",
      "[1] Standard Errors assume that the covariance matrix of the errors is correctly specified.\n"
     ]
    }
   ],
   "source": [
    "print(lr4.summary())"
   ]
  },
  {
   "cell_type": "markdown",
   "id": "11a22f54",
   "metadata": {},
   "source": [
    "#As the P value of News paper is higher than 0.05 we drop the variable and take the 2 variable model as the final Model for the dataset.\n",
    "\n",
    " \n",
    "\n"
   ]
  },
  {
   "cell_type": "code",
   "execution_count": null,
   "id": "9f7f3673",
   "metadata": {},
   "outputs": [],
   "source": []
  },
  {
   "cell_type": "code",
   "execution_count": null,
   "id": "148ade70",
   "metadata": {},
   "outputs": [],
   "source": []
  }
 ],
 "metadata": {
  "kernelspec": {
   "display_name": "Python 3 (ipykernel)",
   "language": "python",
   "name": "python3"
  },
  "language_info": {
   "codemirror_mode": {
    "name": "ipython",
    "version": 3
   },
   "file_extension": ".py",
   "mimetype": "text/x-python",
   "name": "python",
   "nbconvert_exporter": "python",
   "pygments_lexer": "ipython3",
   "version": "3.11.3"
  }
 },
 "nbformat": 4,
 "nbformat_minor": 5
}
